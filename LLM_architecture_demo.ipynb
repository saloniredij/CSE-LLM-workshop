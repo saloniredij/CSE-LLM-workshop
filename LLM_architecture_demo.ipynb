{
  "nbformat": 4,
  "nbformat_minor": 0,
  "metadata": {
    "colab": {
      "provenance": []
    },
    "kernelspec": {
      "name": "python3",
      "display_name": "Python 3"
    },
    "language_info": {
      "name": "python"
    }
  },
  "cells": [
    {
      "cell_type": "code",
      "execution_count": 2,
      "metadata": {
        "colab": {
          "base_uri": "https://localhost:8080/"
        },
        "id": "A_VztOdiMoNd",
        "outputId": "ce254c35-da4b-41f1-f809-39645ce07ef3"
      },
      "outputs": [
        {
          "output_type": "stream",
          "name": "stdout",
          "text": [
            "Input text: Language models learn to predict the next word in the sentence and they can do this job really well\n",
            "\n",
            "Tokenized: ['language', 'models', 'learn', 'to', 'predict', 'the', 'next', 'word', 'in', 'the', 'sentence', 'and', 'they', 'can', 'do', 'this', 'job', 'really', 'well']\n",
            "\n",
            "Token indices: [7, 9, 8, 17, 11, 14, 10, 19, 5, 14, 13, 2, 15, 3, 4, 16, 6, 12, 18]\n",
            "\n"
          ]
        }
      ],
      "source": [
        "import torch\n",
        "import torch.nn as nn\n",
        "import numpy as np\n",
        "import matplotlib.pyplot as plt\n",
        "import math\n",
        "\n",
        "# Set random seed for reproducibility\n",
        "torch.manual_seed(42)\n",
        "\n",
        "# 1. Example Input Text\n",
        "input_text = \"Language models learn to predict the next word in the sentence and they can do this job really well\"\n",
        "print(f\"Input text: {input_text}\\n\")\n",
        "\n",
        "# 2. Simple Tokenization\n",
        "def simple_tokenizer(text):\n",
        "    return text.lower().split()\n",
        "\n",
        "tokens = simple_tokenizer(input_text)\n",
        "print(f\"Tokenized: {tokens}\\n\")\n",
        "\n",
        "# Create  small vocabulary\n",
        "vocab = [\"<PAD>\", \"<UNK>\"] + sorted(set(tokens))\n",
        "token2idx = {token: idx for idx, token in enumerate(vocab)}\n",
        "idx2token = {idx: token for idx, token in enumerate(vocab)}\n",
        "vocab_size = len(vocab)\n",
        "\n",
        "# Convert tokens to indices\n",
        "token_indices = [token2idx[token] for token in tokens]\n",
        "print(f\"Token indices: {token_indices}\\n\")\n"
      ]
    },
    {
      "cell_type": "code",
      "source": [
        "# 3. Token Embeddings\n",
        "class Embedding(nn.Module):\n",
        "    def __init__(self, vocab_size, d_model):\n",
        "        super().__init__()\n",
        "        self.d_model = d_model\n",
        "        self.embedding = nn.Embedding(vocab_size, d_model)\n",
        "\n",
        "    def forward(self, x):\n",
        "        return self.embedding(x) * math.sqrt(self.d_model)\n"
      ],
      "metadata": {
        "id": "Xu3xfqFKMwsZ"
      },
      "execution_count": 3,
      "outputs": []
    },
    {
      "cell_type": "code",
      "source": [
        "# 4. Positional Encoding\n",
        "def get_positional_encoding(max_seq_len, d_model):\n",
        "    positional_encoding = np.zeros((max_seq_len, d_model))\n",
        "    for pos in range(max_seq_len):\n",
        "        for i in range(0, d_model, 2):\n",
        "            positional_encoding[pos, i] = math.sin(pos / (10000 ** (i / d_model)))\n",
        "            if i + 1 < d_model:\n",
        "                positional_encoding[pos, i + 1] = math.cos(pos / (10000 ** (i / d_model)))\n",
        "\n",
        "    return torch.FloatTensor(positional_encoding)\n"
      ],
      "metadata": {
        "id": "7fZUCRj1NNdg"
      },
      "execution_count": 4,
      "outputs": []
    },
    {
      "cell_type": "code",
      "source": [
        "# 5. Self-Attention Mechanism\n",
        "class SelfAttention(nn.Module):\n",
        "    def __init__(self, d_model):\n",
        "        super().__init__()\n",
        "        self.d_model = d_model\n",
        "        self.q = nn.Linear(d_model, d_model)\n",
        "        self.k = nn.Linear(d_model, d_model)\n",
        "        self.v = nn.Linear(d_model, d_model)\n",
        "\n",
        "    def forward(self, x, mask=None):\n",
        "        # x shape: (batch_size, seq_len, d_model)\n",
        "        batch_size, seq_len, _ = x.size()\n",
        "\n",
        "        # Create Q, K, V projections\n",
        "        q = self.q(x)  # (batch_size, seq_len, d_model)\n",
        "        k = self.k(x)  # (batch_size, seq_len, d_model)\n",
        "        v = self.v(x)  # (batch_size, seq_len, d_model)\n",
        "\n",
        "        # Compute attention scores\n",
        "        scores = torch.matmul(q, k.transpose(-2, -1)) / math.sqrt(self.d_model)\n",
        "\n",
        "        # Apply mask if provided (for causal/autoregressive attention)\n",
        "        if mask is not None:\n",
        "            scores = scores.masked_fill(mask == 0, -1e9)\n",
        "\n",
        "        # Apply softmax to get attention weights\n",
        "        attention_weights = torch.softmax(scores, dim=-1)\n",
        "\n",
        "        # Apply attention weights to values\n",
        "        output = torch.matmul(attention_weights, v)\n",
        "        return output\n"
      ],
      "metadata": {
        "id": "ufFo8RTfNQ9O"
      },
      "execution_count": 5,
      "outputs": []
    },
    {
      "cell_type": "code",
      "source": [
        "# 6. Feed-Forward Network\n",
        "class FeedForward(nn.Module):\n",
        "    def __init__(self, d_model, d_ff):\n",
        "        super().__init__()\n",
        "        self.linear1 = nn.Linear(d_model, d_ff)\n",
        "        self.linear2 = nn.Linear(d_ff, d_model)\n",
        "        self.relu = nn.ReLU()\n",
        "\n",
        "    def forward(self, x):\n",
        "        return self.linear2(self.relu(self.linear1(x)))\n"
      ],
      "metadata": {
        "id": "OcpE9qSNNTzP"
      },
      "execution_count": 6,
      "outputs": []
    },
    {
      "cell_type": "code",
      "source": [
        "# 7. Basic Transformer Layer\n",
        "class TransformerLayer(nn.Module):\n",
        "    def __init__(self, d_model, d_ff):\n",
        "        super().__init__()\n",
        "        self.self_attention = SelfAttention(d_model)\n",
        "        self.feed_forward = FeedForward(d_model, d_ff)\n",
        "        self.norm1 = nn.LayerNorm(d_model)\n",
        "        self.norm2 = nn.LayerNorm(d_model)\n",
        "\n",
        "    def forward(self, x, mask=None):\n",
        "        # Self-attention with residual connection\n",
        "        attn_output = self.self_attention(x, mask)\n",
        "        x = self.norm1(x + attn_output)\n",
        "\n",
        "        # Feed-forward with residual connection\n",
        "        ff_output = self.feed_forward(x)\n",
        "        x = self.norm2(x + ff_output)\n",
        "        return x"
      ],
      "metadata": {
        "id": "eOQsN60pNWJ0"
      },
      "execution_count": 7,
      "outputs": []
    },
    {
      "cell_type": "code",
      "source": [
        "# 8. Simple Language Model\n",
        "class SimpleLM(nn.Module):\n",
        "    def __init__(self, vocab_size, d_model, d_ff, num_layers, max_seq_len):\n",
        "        super().__init__()\n",
        "        self.d_model = d_model\n",
        "        self.embedding = Embedding(vocab_size, d_model)\n",
        "        self.pos_encoding = get_positional_encoding(max_seq_len, d_model)\n",
        "\n",
        "        self.transformer_layers = nn.ModuleList([\n",
        "            TransformerLayer(d_model, d_ff) for _ in range(num_layers)\n",
        "        ])\n",
        "\n",
        "        self.output_layer = nn.Linear(d_model, vocab_size)\n",
        "\n",
        "    def generate_square_mask(self, sz):\n",
        "        mask = (torch.triu(torch.ones(sz, sz)) == 1).transpose(0, 1)\n",
        "        mask = mask.float().masked_fill(mask == 0, 0.0).masked_fill(mask == 1, 1.0)\n",
        "        return mask\n",
        "\n",
        "    def forward(self, x):\n",
        "        # x shape= (batch_size, seq_len)\n",
        "        seq_len = x.size(1)\n",
        "        # Create causal mask\n",
        "        mask = self.generate_square_mask(seq_len).to(x.device)\n",
        "        # Get embeddings\n",
        "        x = self.embedding(x)\n",
        "        # Add positional encodings\n",
        "        x = x + self.pos_encoding[:seq_len, :].unsqueeze(0).to(x.device)\n",
        "        # Pass through transformer layers\n",
        "        for layer in self.transformer_layers:\n",
        "            x = layer(x, mask)\n",
        "        # Project to vocabulary\n",
        "        output = self.output_layer(x)\n",
        "        return output\n"
      ],
      "metadata": {
        "id": "elqCxOpBNZJb"
      },
      "execution_count": 8,
      "outputs": []
    },
    {
      "cell_type": "code",
      "source": [
        "# Set model parameters\n",
        "d_model = 16    # Embedding dimension\n",
        "d_ff = 32       # Feed-forward dimension\n",
        "num_layers = 2  # Number of transformer layers\n",
        "max_seq_len = 20  # Maximum sequence length\n",
        "\n",
        "# Training data\n",
        "training_sentences = [\n",
        "    \"language models learn to predict the next word\",\n",
        "    \"transformer models process all tokens at once\",\n",
        "    \"attention mechanisms help models focus on relevant context\",\n",
        "    \"large language models require extensive training data\",\n",
        "    \"the model learns to predict the next word in sequence\"\n",
        "]\n",
        "\n",
        "# Prepare training data\n",
        "all_tokens = []\n",
        "for sentence in training_sentences:\n",
        "    all_tokens.extend(simple_tokenizer(sentence))\n",
        "\n",
        "# Update vocabulary\n",
        "vocab = [\"<PAD>\", \"<UNK>\"] + sorted(set(all_tokens))\n",
        "token2idx = {token: idx for idx, token in enumerate(vocab)}\n",
        "idx2token = {idx: token for idx, token in enumerate(vocab)}\n",
        "vocab_size = len(vocab)\n",
        "\n",
        "# Create the model with updated vocabulary\n",
        "model = SimpleLM(vocab_size, d_model, d_ff, num_layers, max_seq_len)\n",
        "\n",
        "# Visualize Positional Encoding function\n",
        "def visualize_positional_encoding(pos_encoding):\n",
        "    plt.figure(figsize=(10, 8))\n",
        "    plt.imshow(pos_encoding.numpy(), cmap='viridis', aspect='auto')\n",
        "    plt.xlabel('Embedding Dimension')\n",
        "    plt.ylabel('Position')\n",
        "    plt.colorbar(label='Encoding Value')\n",
        "    plt.title('Sinusoidal Positional Encoding')\n",
        "    plt.show()\n",
        "\n",
        "# Visualize positional encoding\n",
        "pos_encoding = model.pos_encoding[:10]  # First 10 positions\n",
        "visualize_positional_encoding(pos_encoding)"
      ],
      "metadata": {
        "colab": {
          "base_uri": "https://localhost:8080/",
          "height": 718
        },
        "id": "OYvXSm_-NuQf",
        "outputId": "90b87a09-29bf-48c3-957d-395d9c1dc4b0"
      },
      "execution_count": 9,
      "outputs": [
        {
          "output_type": "display_data",
          "data": {
            "text/plain": [
              "<Figure size 1000x800 with 2 Axes>"
            ],
            "image/png": "[encoded data removed]"
          },
          "metadata": {}
        }
      ]
    },
    {
      "cell_type": "code",
      "source": [
        "# Training parameters\n",
        "learning_rate = 0.01\n",
        "num_epochs = 100\n",
        "optimizer = torch.optim.Adam(model.parameters(), lr=learning_rate)\n",
        "loss_fn = nn.CrossEntropyLoss()\n",
        "\n",
        "# Prepare input-target pairs\n",
        "training_examples = []\n",
        "for sentence in training_sentences:\n",
        "    tokens = simple_tokenizer(sentence)\n",
        "    indices = [token2idx.get(t, token2idx[\"<UNK>\"]) for t in tokens]\n",
        "\n",
        "    # For each position, predict the next token\n",
        "    for i in range(len(indices)-1):\n",
        "        input_seq = indices[:i+1]\n",
        "        target = indices[i+1]\n",
        "        training_examples.append((input_seq, target))\n",
        "\n",
        "print(f\"Number of training examples: {len(training_examples)}\")\n",
        "\n",
        "# Training loop\n",
        "losses = []\n",
        "for epoch in range(num_epochs):\n",
        "    epoch_loss = 0\n",
        "    for input_seq, target in training_examples:\n",
        "        # Pad sequence to handle variable lengths\n",
        "        padded_input = input_seq + [token2idx[\"<PAD>\"]] * (max_seq_len - len(input_seq))\n",
        "        padded_input = padded_input[:max_seq_len]  # Truncate if too long\n",
        "\n",
        "        # Convert to tensors\n",
        "        input_tensor = torch.tensor([padded_input])\n",
        "        target_tensor = torch.tensor([target])\n",
        "\n",
        "        # Forward pass\n",
        "        output = model(input_tensor)\n",
        "        logits = output[0, len(input_seq)-1, :]  # Get logits for the last actual token\n",
        "\n",
        "        # Compute loss and update weights\n",
        "        loss = loss_fn(logits.unsqueeze(0), target_tensor)\n",
        "\n",
        "        optimizer.zero_grad()\n",
        "        loss.backward()\n",
        "        optimizer.step()\n",
        "\n",
        "        epoch_loss += loss.item()\n",
        "\n",
        "    losses.append(epoch_loss / len(training_examples))\n",
        "\n",
        "    if (epoch+1) % 10 == 0:\n",
        "        print(f\"Epoch {epoch+1}/{num_epochs}, Loss: {losses[-1]:.4f}\")"
      ],
      "metadata": {
        "colab": {
          "base_uri": "https://localhost:8080/"
        },
        "id": "0dJwUe-PNjXV",
        "outputId": "e646cdf3-cab1-43b4-fe09-7d701d0bb0b7"
      },
      "execution_count": 10,
      "outputs": [
        {
          "output_type": "stream",
          "name": "stdout",
          "text": [
            "Number of training examples: 35\n",
            "Epoch 10/100, Loss: 0.3474\n",
            "Epoch 20/100, Loss: 0.0285\n",
            "Epoch 30/100, Loss: 0.7016\n",
            "Epoch 40/100, Loss: 0.9370\n",
            "Epoch 50/100, Loss: 0.0866\n",
            "Epoch 60/100, Loss: 0.0072\n",
            "Epoch 70/100, Loss: 0.0040\n",
            "Epoch 80/100, Loss: 0.0026\n",
            "Epoch 90/100, Loss: 0.0019\n",
            "Epoch 100/100, Loss: 0.0014\n"
          ]
        }
      ]
    },
    {
      "cell_type": "code",
      "source": [
        "# example\n",
        "test_sentence = \"attention mechanisms help models\"\n",
        "test_tokens = simple_tokenizer(test_sentence)\n",
        "test_indices = [token2idx.get(t, token2idx[\"<UNK>\"]) for t in test_tokens]\n",
        "\n",
        "# Pad and convert to tensor\n",
        "padded_test = test_indices + [token2idx[\"<PAD>\"]] * (max_seq_len - len(test_indices))\n",
        "padded_test = padded_test[:max_seq_len]\n",
        "test_tensor = torch.tensor([padded_test])\n",
        "\n",
        "# Generate prediction\n",
        "with torch.no_grad():\n",
        "    output = model(test_tensor)\n",
        "    last_token_logits = output[0, len(test_indices)-1, :]\n",
        "\n",
        "    # Get top 3 predictions\n",
        "    top_indices = torch.topk(last_token_logits, 3).indices.tolist()\n",
        "    top_predictions = [idx2token[idx] for idx in top_indices]\n",
        "\n",
        "print(f\"Input: '{test_sentence}'\")\n",
        "print(f\"Top 3 predictions for next word: {top_predictions}\")"
      ],
      "metadata": {
        "colab": {
          "base_uri": "https://localhost:8080/"
        },
        "id": "7IWmNRtZORav",
        "outputId": "5a2b2378-38b4-47f8-b99b-b1807fef75a5"
      },
      "execution_count": 11,
      "outputs": [
        {
          "output_type": "stream",
          "name": "stdout",
          "text": [
            "Input: 'attention mechanisms help models'\n",
            "Top 3 predictions for next word: ['focus', 'require', 'sequence']\n"
          ]
        }
      ]
    },
    {
      "cell_type": "code",
      "source": [],
      "metadata": {
        "id": "WAns2LAZPaTo"
      },
      "execution_count": null,
      "outputs": []
    }
  ]
}