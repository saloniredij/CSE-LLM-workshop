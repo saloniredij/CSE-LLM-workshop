{
 "cells": [
  {
   "cell_type": "code",
   "execution_count": null,
   "id": "76dacc32",
   "metadata": {},
   "outputs": [],
   "source": [
    "pip install transformers torch"
   ]
  },
  {
   "cell_type": "code",
   "execution_count": null,
   "id": "7dc3153d",
   "metadata": {},
   "outputs": [],
   "source": [
    "from transformers import GPT2Tokenizer, GPT2LMHeadModel\n",
    "import torch"
   ]
  },
  {
   "cell_type": "code",
   "execution_count": null,
   "id": "2bef316a",
   "metadata": {},
   "outputs": [],
   "source": [
    "tokenizer = GPT2Tokenizer.from_pretrained(\"gpt2\")\n",
    "model = GPT2LMHeadModel.from_pretrained(\"gpt2\")\n",
    "model.eval()"
   ]
  },
  {
   "cell_type": "code",
   "execution_count": null,
   "id": "4325059e",
   "metadata": {},
   "outputs": [],
   "source": [
    "words = [\"gifted\", \"cats\"]\n",
    "for word in words:\n",
    "    tokens = tokenizer.tokenize(word)\n",
    "    print(f'\"{word}\" → {tokens}')"
   ]
  },
  {
   "cell_type": "code",
   "execution_count": null,
   "id": "76fde7f0",
   "metadata": {},
   "outputs": [],
   "source": [
    "text = \"The cat is\"\n",
    "inputs = tokenizer(text, return_tensors=\"pt\")\n",
    "with torch.no_grad():\n",
    "    outputs = model(**inputs, labels=inputs[\"input_ids\"])\n",
    "    loss = outputs.loss\n",
    "    logits = outputs.logits\n",
    "\n",
    "import torch.nn.functional as F\n",
    "\n",
    "next_token_logits = logits[0, -1]\n",
    "probs = F.softmax(next_token_logits, dim=0)\n",
    "top_k = torch.topk(probs, k=10)\n",
    "\n",
    "print(\"Top 10 next token predictions after:\", text)\n",
    "for i, prob in zip(top_k.indices, top_k.values):\n",
    "    print(f\"{tokenizer.decode(i.item()):<10} | prob: {prob.item():.4f}\")"
   ]
  },
  {
   "cell_type": "code",
   "execution_count": null,
   "id": "c6ef8d21",
   "metadata": {},
   "outputs": [],
   "source": [
    "from transformers import BertTokenizer\n",
    "tokenizer = BertTokenizer.from_pretrained(\"bert-base-uncased\")\n",
    "words = [\"gifted\", \"unwatched\", \"cats\"]\n",
    "for word in words:\n",
    "    tokens = tokenizer.tokenize(word)\n",
    "    print(f'\"{word}\" → {tokens}')"
   ]
  },
  {
   "cell_type": "code",
   "execution_count": null,
   "id": "83cec950",
   "metadata": {},
   "outputs": [],
   "source": [
    "from transformers import GPT2Tokenizer\n",
    "tokenizer = GPT2Tokenizer.from_pretrained(\"gpt2\")\n",
    "tokenizer.tokenize(\"unwatched cats\")"
   ]
  },
  {
   "cell_type": "code",
   "execution_count": null,
   "id": "f67f32d6",
   "metadata": {},
   "outputs": [],
   "source": [
    "from transformers import GPT2Tokenizer\n",
    "tokenizer = GPT2Tokenizer.from_pretrained(\"gpt2\")\n",
    "tokenizer.tokenize(\"watched dogs\")"
   ]
  },
  {
   "cell_type": "code",
   "execution_count": null,
   "id": "37f55592",
   "metadata": {},
   "outputs": [],
   "source": [
    "from transformers import GPT2Tokenizer\n",
    "\n",
    "tokenizer = GPT2Tokenizer.from_pretrained(\"gpt2\")\n",
    "text = \"unwatched cats\"\n",
    "\n",
    "input_ids = tokenizer.encode(text)\n",
    "tokens = tokenizer.convert_ids_to_tokens(input_ids)\n",
    "\n",
    "print(f\"Input text: {text}\")\n",
    "print(f\"Token IDs: {input_ids}\")\n",
    "print(f\"Tokens: {tokens}\")"
   ]
  },
  {
   "cell_type": "code",
   "execution_count": null,
   "id": "222bb41e",
   "metadata": {},
   "outputs": [],
   "source": [
    "from transformers import BertTokenizer\n",
    "\n",
    "tokenizer = BertTokenizer.from_pretrained(\"bert-base-uncased\")\n",
    "tokens = tokenizer.tokenize(\"unwatched cats\")\n",
    "print(tokens)"
   ]
  },
  {
   "cell_type": "code",
   "execution_count": null,
   "id": "b1f935a4",
   "metadata": {},
   "outputs": [],
   "source": []
  }
 ],
 "metadata": {
  "kernelspec": {
   "display_name": "Python 3 (ipykernel)",
   "language": "python",
   "name": "python3"
  },
  "language_info": {
   "codemirror_mode": {
    "name": "ipython",
    "version": 3
   },
   "file_extension": ".py",
   "mimetype": "text/x-python",
   "name": "python",
   "nbconvert_exporter": "python",
   "pygments_lexer": "ipython3",
   "version": "3.8.8"
  }
 },
 "nbformat": 4,
 "nbformat_minor": 5
}
